{
 "cells": [
  {
   "cell_type": "code",
   "execution_count": 21,
   "metadata": {},
   "outputs": [],
   "source": [
    "import numpy as np\n",
    "import pandas as pd"
   ]
  },
  {
   "cell_type": "code",
   "execution_count": 22,
   "metadata": {},
   "outputs": [],
   "source": [
    "np.random.seed(10)"
   ]
  },
  {
   "cell_type": "code",
   "execution_count": 23,
   "metadata": {},
   "outputs": [
    {
     "name": "stdout",
     "output_type": "stream",
     "text": [
      "(16383, 10)\n"
     ]
    }
   ],
   "source": [
    "excel = pd.ExcelFile('../data.xls')\n",
    "df = excel.parse(\"data\")\n",
    "\n",
    "print(df.shape)"
   ]
  },
  {
   "cell_type": "code",
   "execution_count": 24,
   "metadata": {},
   "outputs": [
    {
     "name": "stdout",
     "output_type": "stream",
     "text": [
      "[['NMR' 1 8 3 8]\n",
      " ['NMR' 4 1 8 7]\n",
      " ['NMR' 3 4 7 6]\n",
      " ...\n",
      " ['NMR' 0 5 7 8]\n",
      " ['NMR' 5 1 6 8]\n",
      " ['NMR' 7 2 4 7]]\n",
      "[[ 1 10  2  7]\n",
      " [ 3  1 10  6]\n",
      " [ 3  3  9  5]\n",
      " ...\n",
      " [ 0  4  6 10]\n",
      " [ 4  1  5 10]\n",
      " [ 9  2  3  6]]\n"
     ]
    }
   ],
   "source": [
    "X = df.iloc[:, 1:6].values\n",
    "Y = df.iloc[:, 6:].values\n",
    "\n",
    "print(X)\n",
    "print(Y)"
   ]
  },
  {
   "cell_type": "code",
   "execution_count": 25,
   "metadata": {},
   "outputs": [
    {
     "name": "stdout",
     "output_type": "stream",
     "text": [
      "(16383, 9)\n"
     ]
    },
    {
     "name": "stderr",
     "output_type": "stream",
     "text": [
      "/usr/local/lib/python3.7/site-packages/sklearn/preprocessing/_encoders.py:415: FutureWarning: The handling of integer data will change in version 0.22. Currently, the categories are determined based on the range [0, max(values)], while in the future they will be determined based on the unique values.\n",
      "If you want the future behaviour and silence this warning, you can specify \"categories='auto'\".\n",
      "In case you used a LabelEncoder before this OneHotEncoder to convert the categories to integers, then you can now use the OneHotEncoder directly.\n",
      "  warnings.warn(msg, FutureWarning)\n",
      "/usr/local/lib/python3.7/site-packages/sklearn/preprocessing/_encoders.py:451: DeprecationWarning: The 'categorical_features' keyword is deprecated in version 0.20 and will be removed in 0.22. You can use the ColumnTransformer instead.\n",
      "  \"use the ColumnTransformer instead.\", DeprecationWarning)\n"
     ]
    }
   ],
   "source": [
    "from sklearn.preprocessing import LabelEncoder, OneHotEncoder\n",
    "\n",
    "X[:, 0] = LabelEncoder().fit_transform(X[:, 0])\n",
    "X = OneHotEncoder(categorical_features = [0]).fit_transform(X).toarray()\n",
    "\n",
    "print(X.shape)"
   ]
  },
  {
   "cell_type": "code",
   "execution_count": 26,
   "metadata": {},
   "outputs": [
    {
     "name": "stdout",
     "output_type": "stream",
     "text": [
      "13106\n",
      "3277\n"
     ]
    }
   ],
   "source": [
    "from sklearn.model_selection import train_test_split\n",
    "\n",
    "X_train, X_test, Y_train, Y_test = train_test_split(X, Y, test_size = 0.2, random_state = 0)\n",
    "\n",
    "print(len(X_train))\n",
    "print(len(X_test))"
   ]
  },
  {
   "cell_type": "code",
   "execution_count": 27,
   "metadata": {},
   "outputs": [],
   "source": [
    "from keras.models import Sequential\n",
    "from keras.layers import Dense\n",
    "\n",
    "model = Sequential()\n",
    "model.add(Dense(9, input_dim=9, activation='relu'))\n",
    "model.add(Dense(100, activation='relu'))\n",
    "model.add(Dense(50, activation='relu'))\n",
    "model.add(Dense(4))\n",
    "\n",
    "model.compile(loss='mean_squared_error', metrics=['mean_absolute_error'], optimizer='adam')"
   ]
  },
  {
   "cell_type": "code",
   "execution_count": 28,
   "metadata": {
    "scrolled": false
   },
   "outputs": [
    {
     "name": "stdout",
     "output_type": "stream",
     "text": [
      "Epoch 1/100\n",
      "13106/13106 [==============================] - 1s 91us/step - loss: 4.3920 - mean_absolute_error: 1.4458\n",
      "Epoch 2/100\n",
      "13106/13106 [==============================] - 1s 52us/step - loss: 1.6363 - mean_absolute_error: 0.8198\n",
      "Epoch 3/100\n",
      "13106/13106 [==============================] - 1s 51us/step - loss: 0.8202 - mean_absolute_error: 0.6088\n",
      "Epoch 4/100\n",
      "13106/13106 [==============================] - 1s 87us/step - loss: 0.4161 - mean_absolute_error: 0.4723\n",
      "Epoch 5/100\n",
      "13106/13106 [==============================] - 1s 48us/step - loss: 0.2867 - mean_absolute_error: 0.4023\n",
      "Epoch 6/100\n",
      "13106/13106 [==============================] - 1s 48us/step - loss: 0.2380 - mean_absolute_error: 0.3680\n",
      "Epoch 7/100\n",
      "13106/13106 [==============================] - 1s 48us/step - loss: 0.2048 - mean_absolute_error: 0.3421\n",
      "Epoch 8/100\n",
      "13106/13106 [==============================] - 1s 68us/step - loss: 0.1785 - mean_absolute_error: 0.3197\n",
      "Epoch 9/100\n",
      "13106/13106 [==============================] - 1s 84us/step - loss: 0.1544 - mean_absolute_error: 0.2984\n",
      "Epoch 10/100\n",
      "13106/13106 [==============================] - 1s 60us/step - loss: 0.1296 - mean_absolute_error: 0.2726\n",
      "Epoch 11/100\n",
      "13106/13106 [==============================] - 1s 63us/step - loss: 0.1109 - mean_absolute_error: 0.2538\n",
      "Epoch 12/100\n",
      "13106/13106 [==============================] - 1s 56us/step - loss: 0.0909 - mean_absolute_error: 0.2300\n",
      "Epoch 13/100\n",
      "13106/13106 [==============================] - 1s 52us/step - loss: 0.0782 - mean_absolute_error: 0.2140\n",
      "Epoch 14/100\n",
      "13106/13106 [==============================] - 1s 54us/step - loss: 0.0649 - mean_absolute_error: 0.1951\n",
      "Epoch 15/100\n",
      "13106/13106 [==============================] - 1s 53us/step - loss: 0.0581 - mean_absolute_error: 0.1849\n",
      "Epoch 16/100\n",
      "13106/13106 [==============================] - 1s 55us/step - loss: 0.0506 - mean_absolute_error: 0.1720\n",
      "Epoch 17/100\n",
      "13106/13106 [==============================] - 1s 54us/step - loss: 0.0479 - mean_absolute_error: 0.1677\n",
      "Epoch 18/100\n",
      "13106/13106 [==============================] - 1s 54us/step - loss: 0.0437 - mean_absolute_error: 0.1594\n",
      "Epoch 19/100\n",
      "13106/13106 [==============================] - 1s 54us/step - loss: 0.0399 - mean_absolute_error: 0.1525\n",
      "Epoch 20/100\n",
      "13106/13106 [==============================] - 1s 56us/step - loss: 0.0361 - mean_absolute_error: 0.1435\n",
      "Epoch 21/100\n",
      "13106/13106 [==============================] - 1s 54us/step - loss: 0.0358 - mean_absolute_error: 0.1435\n",
      "Epoch 22/100\n",
      "13106/13106 [==============================] - 1s 88us/step - loss: 0.0322 - mean_absolute_error: 0.1351\n",
      "Epoch 23/100\n",
      "13106/13106 [==============================] - 1s 62us/step - loss: 0.0303 - mean_absolute_error: 0.1307\n",
      "Epoch 24/100\n",
      "13106/13106 [==============================] - 1s 73us/step - loss: 0.0290 - mean_absolute_error: 0.1283\n",
      "Epoch 25/100\n",
      "13106/13106 [==============================] - 1s 77us/step - loss: 0.0269 - mean_absolute_error: 0.1226\n",
      "Epoch 26/100\n",
      "13106/13106 [==============================] - 1s 84us/step - loss: 0.0256 - mean_absolute_error: 0.1194: 0s - loss: 0.0255 - mean_absolute_error: 0.1\n",
      "Epoch 27/100\n",
      "13106/13106 [==============================] - 1s 56us/step - loss: 0.0242 - mean_absolute_error: 0.1164\n",
      "Epoch 28/100\n",
      "13106/13106 [==============================] - 1s 55us/step - loss: 0.0230 - mean_absolute_error: 0.1133\n",
      "Epoch 29/100\n",
      "13106/13106 [==============================] - 1s 55us/step - loss: 0.0224 - mean_absolute_error: 0.1121\n",
      "Epoch 30/100\n",
      "13106/13106 [==============================] - 1s 56us/step - loss: 0.0208 - mean_absolute_error: 0.1079\n",
      "Epoch 31/100\n",
      "13106/13106 [==============================] - 1s 55us/step - loss: 0.0197 - mean_absolute_error: 0.1044\n",
      "Epoch 32/100\n",
      "13106/13106 [==============================] - 1s 56us/step - loss: 0.0181 - mean_absolute_error: 0.0997\n",
      "Epoch 33/100\n",
      "13106/13106 [==============================] - 1s 56us/step - loss: 0.0185 - mean_absolute_error: 0.1018\n",
      "Epoch 34/100\n",
      "13106/13106 [==============================] - 1s 66us/step - loss: 0.0169 - mean_absolute_error: 0.0967\n",
      "Epoch 35/100\n",
      "13106/13106 [==============================] - 1s 80us/step - loss: 0.0167 - mean_absolute_error: 0.0962\n",
      "Epoch 36/100\n",
      "13106/13106 [==============================] - 1s 56us/step - loss: 0.0163 - mean_absolute_error: 0.0952\n",
      "Epoch 37/100\n",
      "13106/13106 [==============================] - 1s 57us/step - loss: 0.0148 - mean_absolute_error: 0.0899\n",
      "Epoch 38/100\n",
      "13106/13106 [==============================] - 1s 57us/step - loss: 0.0147 - mean_absolute_error: 0.0899\n",
      "Epoch 39/100\n",
      "13106/13106 [==============================] - 1s 53us/step - loss: 0.0145 - mean_absolute_error: 0.0895\n",
      "Epoch 40/100\n",
      "13106/13106 [==============================] - 1s 57us/step - loss: 0.0129 - mean_absolute_error: 0.0839\n",
      "Epoch 41/100\n",
      "13106/13106 [==============================] - 1s 81us/step - loss: 0.0134 - mean_absolute_error: 0.0857\n",
      "Epoch 42/100\n",
      "13106/13106 [==============================] - 1s 57us/step - loss: 0.0127 - mean_absolute_error: 0.0835\n",
      "Epoch 43/100\n",
      "13106/13106 [==============================] - 1s 62us/step - loss: 0.0123 - mean_absolute_error: 0.0826\n",
      "Epoch 44/100\n",
      "13106/13106 [==============================] - 1s 70us/step - loss: 0.0119 - mean_absolute_error: 0.0803\n",
      "Epoch 45/100\n",
      "13106/13106 [==============================] - 1s 53us/step - loss: 0.0114 - mean_absolute_error: 0.0791\n",
      "Epoch 46/100\n",
      "13106/13106 [==============================] - 1s 55us/step - loss: 0.0114 - mean_absolute_error: 0.0797\n",
      "Epoch 47/100\n",
      "13106/13106 [==============================] - 1s 92us/step - loss: 0.0108 - mean_absolute_error: 0.0768\n",
      "Epoch 48/100\n",
      "13106/13106 [==============================] - 1s 57us/step - loss: 0.0104 - mean_absolute_error: 0.0756\n",
      "Epoch 49/100\n",
      "13106/13106 [==============================] - 1s 56us/step - loss: 0.0106 - mean_absolute_error: 0.0769\n",
      "Epoch 50/100\n",
      "13106/13106 [==============================] - 1s 69us/step - loss: 0.0097 - mean_absolute_error: 0.0731\n",
      "Epoch 51/100\n",
      "13106/13106 [==============================] - 1s 98us/step - loss: 0.0098 - mean_absolute_error: 0.0741\n",
      "Epoch 52/100\n",
      "13106/13106 [==============================] - 1s 75us/step - loss: 0.0094 - mean_absolute_error: 0.0725\n",
      "Epoch 53/100\n",
      "13106/13106 [==============================] - 1s 59us/step - loss: 0.0090 - mean_absolute_error: 0.0708\n",
      "Epoch 54/100\n",
      "13106/13106 [==============================] - 1s 55us/step - loss: 0.0090 - mean_absolute_error: 0.0710\n",
      "Epoch 55/100\n",
      "13106/13106 [==============================] - 1s 76us/step - loss: 0.0091 - mean_absolute_error: 0.0717\n",
      "Epoch 56/100\n",
      "13106/13106 [==============================] - 1s 69us/step - loss: 0.0080 - mean_absolute_error: 0.0664: 0s - loss: 0.0077 - mean_absolute_err\n",
      "Epoch 57/100\n",
      "13106/13106 [==============================] - 1s 61us/step - loss: 0.0083 - mean_absolute_error: 0.0679\n",
      "Epoch 58/100\n",
      "13106/13106 [==============================] - 1s 63us/step - loss: 0.0086 - mean_absolute_error: 0.0685\n",
      "Epoch 59/100\n",
      "13106/13106 [==============================] - 1s 82us/step - loss: 0.0076 - mean_absolute_error: 0.0649\n",
      "Epoch 60/100\n",
      "13106/13106 [==============================] - 1s 47us/step - loss: 0.0078 - mean_absolute_error: 0.0663\n",
      "Epoch 61/100\n",
      "13106/13106 [==============================] - 1s 49us/step - loss: 0.0070 - mean_absolute_error: 0.0619\n",
      "Epoch 62/100\n",
      "13106/13106 [==============================] - 1s 43us/step - loss: 0.0067 - mean_absolute_error: 0.0608\n",
      "Epoch 63/100\n",
      "13106/13106 [==============================] - 1s 43us/step - loss: 0.0077 - mean_absolute_error: 0.0657\n",
      "Epoch 64/100\n",
      "13106/13106 [==============================] - 1s 43us/step - loss: 0.0067 - mean_absolute_error: 0.0611\n",
      "Epoch 65/100\n",
      "13106/13106 [==============================] - 1s 39us/step - loss: 0.0067 - mean_absolute_error: 0.0611\n",
      "Epoch 66/100\n",
      "13106/13106 [==============================] - 1s 43us/step - loss: 0.0066 - mean_absolute_error: 0.0608\n",
      "Epoch 67/100\n",
      "13106/13106 [==============================] - 1s 39us/step - loss: 0.0065 - mean_absolute_error: 0.0602\n",
      "Epoch 68/100\n",
      "13106/13106 [==============================] - 1s 39us/step - loss: 0.0065 - mean_absolute_error: 0.0606\n",
      "Epoch 69/100\n"
     ]
    },
    {
     "name": "stdout",
     "output_type": "stream",
     "text": [
      "13106/13106 [==============================] - 1s 40us/step - loss: 0.0063 - mean_absolute_error: 0.0598\n",
      "Epoch 70/100\n",
      "13106/13106 [==============================] - 1s 49us/step - loss: 0.0059 - mean_absolute_error: 0.0577: 0s - loss: 0.0060 - mean_absolute_error: \n",
      "Epoch 71/100\n",
      "13106/13106 [==============================] - 1s 70us/step - loss: 0.0063 - mean_absolute_error: 0.0598\n",
      "Epoch 72/100\n",
      "13106/13106 [==============================] - 1s 105us/step - loss: 0.0063 - mean_absolute_error: 0.0595\n",
      "Epoch 73/100\n",
      "13106/13106 [==============================] - 1s 62us/step - loss: 0.0053 - mean_absolute_error: 0.0548\n",
      "Epoch 74/100\n",
      "13106/13106 [==============================] - 1s 57us/step - loss: 0.0051 - mean_absolute_error: 0.0534\n",
      "Epoch 75/100\n",
      "13106/13106 [==============================] - 1s 63us/step - loss: 0.0054 - mean_absolute_error: 0.0552\n",
      "Epoch 76/100\n",
      "13106/13106 [==============================] - 1s 87us/step - loss: 0.0056 - mean_absolute_error: 0.0566\n",
      "Epoch 77/100\n",
      "13106/13106 [==============================] - 2s 124us/step - loss: 0.0055 - mean_absolute_error: 0.0557\n",
      "Epoch 78/100\n",
      "13106/13106 [==============================] - 1s 94us/step - loss: 0.0050 - mean_absolute_error: 0.0532\n",
      "Epoch 79/100\n",
      "13106/13106 [==============================] - 1s 105us/step - loss: 0.0054 - mean_absolute_error: 0.0556\n",
      "Epoch 80/100\n",
      "13106/13106 [==============================] - 1s 76us/step - loss: 0.0048 - mean_absolute_error: 0.0526\n",
      "Epoch 81/100\n",
      "13106/13106 [==============================] - 1s 97us/step - loss: 0.0052 - mean_absolute_error: 0.0554\n",
      "Epoch 82/100\n",
      "13106/13106 [==============================] - 1s 68us/step - loss: 0.0045 - mean_absolute_error: 0.0507\n",
      "Epoch 83/100\n",
      "13106/13106 [==============================] - 1s 42us/step - loss: 0.0051 - mean_absolute_error: 0.0542\n",
      "Epoch 84/100\n",
      "13106/13106 [==============================] - 1s 39us/step - loss: 0.0044 - mean_absolute_error: 0.0501\n",
      "Epoch 85/100\n",
      "13106/13106 [==============================] - 1s 48us/step - loss: 0.0059 - mean_absolute_error: 0.0565\n",
      "Epoch 86/100\n",
      "13106/13106 [==============================] - 1s 48us/step - loss: 0.0041 - mean_absolute_error: 0.0481\n",
      "Epoch 87/100\n",
      "13106/13106 [==============================] - 1s 48us/step - loss: 0.0042 - mean_absolute_error: 0.0496\n",
      "Epoch 88/100\n",
      "13106/13106 [==============================] - 1s 49us/step - loss: 0.0039 - mean_absolute_error: 0.0474\n",
      "Epoch 89/100\n",
      "13106/13106 [==============================] - 1s 57us/step - loss: 0.0043 - mean_absolute_error: 0.0501\n",
      "Epoch 90/100\n",
      "13106/13106 [==============================] - 1s 44us/step - loss: 0.0042 - mean_absolute_error: 0.0495\n",
      "Epoch 91/100\n",
      "13106/13106 [==============================] - 1s 45us/step - loss: 0.0044 - mean_absolute_error: 0.0509\n",
      "Epoch 92/100\n",
      "13106/13106 [==============================] - 1s 46us/step - loss: 0.0040 - mean_absolute_error: 0.0484\n",
      "Epoch 93/100\n",
      "13106/13106 [==============================] - 1s 45us/step - loss: 0.0038 - mean_absolute_error: 0.0471\n",
      "Epoch 94/100\n",
      "13106/13106 [==============================] - 1s 41us/step - loss: 0.0041 - mean_absolute_error: 0.0488\n",
      "Epoch 95/100\n",
      "13106/13106 [==============================] - 1s 41us/step - loss: 0.0034 - mean_absolute_error: 0.0446\n",
      "Epoch 96/100\n",
      "13106/13106 [==============================] - 1s 57us/step - loss: 0.0038 - mean_absolute_error: 0.0475\n",
      "Epoch 97/100\n",
      "13106/13106 [==============================] - 1s 49us/step - loss: 0.0041 - mean_absolute_error: 0.0486\n",
      "Epoch 98/100\n",
      "13106/13106 [==============================] - 1s 44us/step - loss: 0.0037 - mean_absolute_error: 0.0468\n",
      "Epoch 99/100\n",
      "13106/13106 [==============================] - 1s 44us/step - loss: 0.0037 - mean_absolute_error: 0.0465\n",
      "Epoch 100/100\n",
      "13106/13106 [==============================] - 1s 48us/step - loss: 0.0038 - mean_absolute_error: 0.0469\n"
     ]
    },
    {
     "data": {
      "text/plain": [
       "<keras.callbacks.History at 0x10f0bc910>"
      ]
     },
     "execution_count": 28,
     "metadata": {},
     "output_type": "execute_result"
    }
   ],
   "source": [
    "model.fit(X_train, Y_train, epochs=100, batch_size=32, shuffle='batch')"
   ]
  },
  {
   "cell_type": "code",
   "execution_count": 29,
   "metadata": {},
   "outputs": [
    {
     "name": "stdout",
     "output_type": "stream",
     "text": [
      "3277/3277 [==============================] - 0s 45us/step\n",
      "Loss  [0.0035301967325620637, 0.046351663924032935]\n"
     ]
    }
   ],
   "source": [
    "print('Loss ', model.evaluate(X_test, Y_test))"
   ]
  },
  {
   "cell_type": "code",
   "execution_count": 30,
   "metadata": {},
   "outputs": [
    {
     "name": "stdout",
     "output_type": "stream",
     "text": [
      "Total  3277\n",
      "Correct  3277\n",
      "Accuracy: 1.0\n"
     ]
    }
   ],
   "source": [
    "predictions = np.round(model.predict(X_test))\n",
    "\n",
    "correct = 0\n",
    "for i,j in zip(predictions, Y_test):\n",
    "    if(np.array_equal(i, j)):\n",
    "        correct += 1\n",
    "\n",
    "total = len(predictions)\n",
    "print('Total ', total)\n",
    "print('Correct ', correct)\n",
    "print('Accuracy:' , correct/total)"
   ]
  },
  {
   "cell_type": "code",
   "execution_count": 31,
   "metadata": {},
   "outputs": [],
   "source": [
    "model.save('neural_network.h5')"
   ]
  },
  {
   "cell_type": "code",
   "execution_count": null,
   "metadata": {},
   "outputs": [],
   "source": []
  }
 ],
 "metadata": {
  "kernelspec": {
   "display_name": "Python 3",
   "language": "python",
   "name": "python3"
  },
  "language_info": {
   "codemirror_mode": {
    "name": "ipython",
    "version": 3
   },
   "file_extension": ".py",
   "mimetype": "text/x-python",
   "name": "python",
   "nbconvert_exporter": "python",
   "pygments_lexer": "ipython3",
   "version": "3.7.4"
  }
 },
 "nbformat": 4,
 "nbformat_minor": 2
}
