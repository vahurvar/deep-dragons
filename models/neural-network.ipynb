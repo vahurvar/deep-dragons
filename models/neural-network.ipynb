{
 "cells": [
  {
   "cell_type": "code",
   "execution_count": 14,
   "metadata": {},
   "outputs": [],
   "source": [
    "import numpy as np\n",
    "import pandas as pd"
   ]
  },
  {
   "cell_type": "code",
   "execution_count": 2,
   "metadata": {},
   "outputs": [],
   "source": [
    "np.random.seed(10)"
   ]
  },
  {
   "cell_type": "code",
   "execution_count": 3,
   "metadata": {},
   "outputs": [
    {
     "name": "stdout",
     "output_type": "stream",
     "text": [
      "(16383, 10)\n"
     ]
    }
   ],
   "source": [
    "excel = pd.ExcelFile('../data.xls')\n",
    "df = excel.parse(\"data\")\n",
    "\n",
    "print(df.shape)"
   ]
  },
  {
   "cell_type": "code",
   "execution_count": 4,
   "metadata": {},
   "outputs": [
    {
     "name": "stdout",
     "output_type": "stream",
     "text": [
      "[['NMR' 1 8 3 8]\n",
      " ['NMR' 4 1 8 7]\n",
      " ['NMR' 3 4 7 6]\n",
      " ...\n",
      " ['NMR' 0 5 7 8]\n",
      " ['NMR' 5 1 6 8]\n",
      " ['NMR' 7 2 4 7]]\n",
      "[[ 1 10  2  7]\n",
      " [ 3  1 10  6]\n",
      " [ 3  3  9  5]\n",
      " ...\n",
      " [ 0  4  6 10]\n",
      " [ 4  1  5 10]\n",
      " [ 9  2  3  6]]\n"
     ]
    }
   ],
   "source": [
    "X = df.iloc[:, 1:6].values\n",
    "Y = df.iloc[:, 6:].values\n",
    "\n",
    "print(X)\n",
    "print(Y)"
   ]
  },
  {
   "cell_type": "code",
   "execution_count": 5,
   "metadata": {},
   "outputs": [
    {
     "name": "stdout",
     "output_type": "stream",
     "text": [
      "(16383, 9)\n"
     ]
    }
   ],
   "source": [
    "from sklearn.preprocessing import LabelEncoder, OneHotEncoder\n",
    "from sklearn.compose import ColumnTransformer\n",
    "\n",
    "X[:, 0] = LabelEncoder().fit_transform(X[:, 0])\n",
    "X = ColumnTransformer([(\"Weather\", OneHotEncoder(), [0])], remainder = 'passthrough', ).fit_transform(X)\n",
    "\n",
    "print(X.shape)"
   ]
  },
  {
   "cell_type": "code",
   "execution_count": 6,
   "metadata": {},
   "outputs": [
    {
     "name": "stdout",
     "output_type": "stream",
     "text": [
      "13106\n",
      "3277\n"
     ]
    }
   ],
   "source": [
    "from sklearn.model_selection import train_test_split\n",
    "\n",
    "X_train, X_test, Y_train, Y_test = train_test_split(X, Y, test_size = 0.2, random_state = 0)\n",
    "\n",
    "print(len(X_train))\n",
    "print(len(X_test))"
   ]
  },
  {
   "cell_type": "code",
   "execution_count": 7,
   "metadata": {},
   "outputs": [
    {
     "name": "stderr",
     "output_type": "stream",
     "text": [
      "Using TensorFlow backend.\n"
     ]
    }
   ],
   "source": [
    "from keras.models import Sequential\n",
    "from keras.layers import Dense\n",
    "\n",
    "model = Sequential()\n",
    "model.add(Dense(9, input_dim=9, activation='relu'))\n",
    "model.add(Dense(100, activation='relu'))\n",
    "model.add(Dense(50, activation='relu'))\n",
    "model.add(Dense(4))\n",
    "\n",
    "model.compile(loss='mean_squared_error', metrics=['mean_absolute_error'], optimizer='adam')"
   ]
  },
  {
   "cell_type": "code",
   "execution_count": 8,
   "metadata": {
    "scrolled": false
   },
   "outputs": [
    {
     "name": "stdout",
     "output_type": "stream",
     "text": [
      "Epoch 1/100\n",
      "13106/13106 [==============================] - 1s 88us/step - loss: 4.3445 - mean_absolute_error: 1.4351\n",
      "Epoch 2/100\n",
      "13106/13106 [==============================] - 1s 51us/step - loss: 1.6147 - mean_absolute_error: 0.8121\n",
      "Epoch 3/100\n",
      "13106/13106 [==============================] - 1s 48us/step - loss: 0.8000 - mean_absolute_error: 0.6009\n",
      "Epoch 4/100\n",
      "13106/13106 [==============================] - 1s 55us/step - loss: 0.4045 - mean_absolute_error: 0.4652\n",
      "Epoch 5/100\n",
      "13106/13106 [==============================] - 1s 56us/step - loss: 0.2949 - mean_absolute_error: 0.4061\n",
      "Epoch 6/100\n",
      "13106/13106 [==============================] - 1s 53us/step - loss: 0.2476 - mean_absolute_error: 0.3748\n",
      "Epoch 7/100\n",
      "13106/13106 [==============================] - 1s 62us/step - loss: 0.2141 - mean_absolute_error: 0.3488\n",
      "Epoch 8/100\n",
      "13106/13106 [==============================] - 1s 61us/step - loss: 0.1842 - mean_absolute_error: 0.3231\n",
      "Epoch 9/100\n",
      "13106/13106 [==============================] - 1s 65us/step - loss: 0.1589 - mean_absolute_error: 0.3011\n",
      "Epoch 10/100\n",
      "13106/13106 [==============================] - 1s 59us/step - loss: 0.1358 - mean_absolute_error: 0.2789\n",
      "Epoch 11/100\n",
      "13106/13106 [==============================] - 1s 49us/step - loss: 0.1192 - mean_absolute_error: 0.2629\n",
      "Epoch 12/100\n",
      "13106/13106 [==============================] - 1s 42us/step - loss: 0.1012 - mean_absolute_error: 0.2428\n",
      "Epoch 13/100\n",
      "13106/13106 [==============================] - 1s 42us/step - loss: 0.0877 - mean_absolute_error: 0.2262\n",
      "Epoch 14/100\n",
      "13106/13106 [==============================] - 1s 43us/step - loss: 0.0771 - mean_absolute_error: 0.2129\n",
      "Epoch 15/100\n",
      "13106/13106 [==============================] - 1s 64us/step - loss: 0.0681 - mean_absolute_error: 0.1998\n",
      "Epoch 16/100\n",
      "13106/13106 [==============================] - 1s 53us/step - loss: 0.0578 - mean_absolute_error: 0.1835\n",
      "Epoch 17/100\n",
      "13106/13106 [==============================] - 1s 44us/step - loss: 0.0535 - mean_absolute_error: 0.1765\n",
      "Epoch 18/100\n",
      "13106/13106 [==============================] - 1s 67us/step - loss: 0.0484 - mean_absolute_error: 0.1672\n",
      "Epoch 19/100\n",
      "13106/13106 [==============================] - 1s 91us/step - loss: 0.0428 - mean_absolute_error: 0.1566\n",
      "Epoch 20/100\n",
      "13106/13106 [==============================] - 1s 67us/step - loss: 0.0406 - mean_absolute_error: 0.1526\n",
      "Epoch 21/100\n",
      "13106/13106 [==============================] - 1s 62us/step - loss: 0.0375 - mean_absolute_error: 0.1461\n",
      "Epoch 22/100\n",
      "13106/13106 [==============================] - 1s 66us/step - loss: 0.0345 - mean_absolute_error: 0.1399\n",
      "Epoch 23/100\n",
      "13106/13106 [==============================] - 1s 65us/step - loss: 0.0329 - mean_absolute_error: 0.1367\n",
      "Epoch 24/100\n",
      "13106/13106 [==============================] - 1s 98us/step - loss: 0.0311 - mean_absolute_error: 0.1325\n",
      "Epoch 25/100\n",
      "13106/13106 [==============================] - 1s 97us/step - loss: 0.0299 - mean_absolute_error: 0.1301: 1s - loss: 0.0267 - mean_\n",
      "Epoch 26/100\n",
      "13106/13106 [==============================] - 1s 59us/step - loss: 0.0272 - mean_absolute_error: 0.1233: 0s - loss: 0.0271 - mean_absolute_error: 0.123\n",
      "Epoch 27/100\n",
      "13106/13106 [==============================] - 1s 86us/step - loss: 0.0278 - mean_absolute_error: 0.1256\n",
      "Epoch 28/100\n",
      "13106/13106 [==============================] - 1s 58us/step - loss: 0.0245 - mean_absolute_error: 0.1173\n",
      "Epoch 29/100\n",
      "13106/13106 [==============================] - 1s 106us/step - loss: 0.0245 - mean_absolute_error: 0.1178\n",
      "Epoch 30/100\n",
      "13106/13106 [==============================] - 1s 110us/step - loss: 0.0226 - mean_absolute_error: 0.1125\n",
      "Epoch 31/100\n",
      "13106/13106 [==============================] - 1s 68us/step - loss: 0.0214 - mean_absolute_error: 0.1095\n",
      "Epoch 32/100\n",
      "13106/13106 [==============================] - 1s 54us/step - loss: 0.0202 - mean_absolute_error: 0.1064\n",
      "Epoch 33/100\n",
      "13106/13106 [==============================] - 1s 63us/step - loss: 0.0195 - mean_absolute_error: 0.1046\n",
      "Epoch 34/100\n",
      "13106/13106 [==============================] - 1s 64us/step - loss: 0.0188 - mean_absolute_error: 0.1029\n",
      "Epoch 35/100\n",
      "13106/13106 [==============================] - 1s 77us/step - loss: 0.0175 - mean_absolute_error: 0.0992\n",
      "Epoch 36/100\n",
      "13106/13106 [==============================] - 1s 64us/step - loss: 0.0178 - mean_absolute_error: 0.1006\n",
      "Epoch 37/100\n",
      "13106/13106 [==============================] - 1s 95us/step - loss: 0.0161 - mean_absolute_error: 0.0948\n",
      "Epoch 38/100\n",
      "13106/13106 [==============================] - 1s 79us/step - loss: 0.0158 - mean_absolute_error: 0.0943\n",
      "Epoch 39/100\n",
      "13106/13106 [==============================] - 1s 55us/step - loss: 0.0154 - mean_absolute_error: 0.0931\n",
      "Epoch 40/100\n",
      "13106/13106 [==============================] - 1s 45us/step - loss: 0.0145 - mean_absolute_error: 0.0901\n",
      "Epoch 41/100\n",
      "13106/13106 [==============================] - 1s 69us/step - loss: 0.0145 - mean_absolute_error: 0.0913\n",
      "Epoch 42/100\n",
      "13106/13106 [==============================] - 1s 57us/step - loss: 0.0136 - mean_absolute_error: 0.0882\n",
      "Epoch 43/100\n",
      "13106/13106 [==============================] - 1s 52us/step - loss: 0.0134 - mean_absolute_error: 0.0875\n",
      "Epoch 44/100\n",
      "13106/13106 [==============================] - 1s 51us/step - loss: 0.0121 - mean_absolute_error: 0.0828\n",
      "Epoch 45/100\n",
      "13106/13106 [==============================] - 1s 50us/step - loss: 0.0127 - mean_absolute_error: 0.0851\n",
      "Epoch 46/100\n",
      "13106/13106 [==============================] - 1s 44us/step - loss: 0.0125 - mean_absolute_error: 0.0850\n",
      "Epoch 47/100\n",
      "13106/13106 [==============================] - 1s 72us/step - loss: 0.0122 - mean_absolute_error: 0.0839\n",
      "Epoch 48/100\n",
      "13106/13106 [==============================] - 1s 54us/step - loss: 0.0110 - mean_absolute_error: 0.0792\n",
      "Epoch 49/100\n",
      "13106/13106 [==============================] - 1s 51us/step - loss: 0.0112 - mean_absolute_error: 0.0804\n",
      "Epoch 50/100\n",
      "13106/13106 [==============================] - 1s 59us/step - loss: 0.0105 - mean_absolute_error: 0.0776\n",
      "Epoch 51/100\n",
      "13106/13106 [==============================] - 1s 48us/step - loss: 0.0105 - mean_absolute_error: 0.0776\n",
      "Epoch 52/100\n",
      "13106/13106 [==============================] - 1s 47us/step - loss: 0.0100 - mean_absolute_error: 0.0759\n",
      "Epoch 53/100\n",
      "13106/13106 [==============================] - 1s 96us/step - loss: 0.0101 - mean_absolute_error: 0.0768: 0s - loss: 0.0104 - mean_absolute_\n",
      "Epoch 54/100\n",
      "13106/13106 [==============================] - 1s 70us/step - loss: 0.0097 - mean_absolute_error: 0.0746\n",
      "Epoch 55/100\n",
      "13106/13106 [==============================] - 1s 57us/step - loss: 0.0101 - mean_absolute_error: 0.0769\n",
      "Epoch 56/100\n",
      "13106/13106 [==============================] - 1s 69us/step - loss: 0.0094 - mean_absolute_error: 0.0736\n",
      "Epoch 57/100\n",
      "13106/13106 [==============================] - 1s 48us/step - loss: 0.0089 - mean_absolute_error: 0.0717\n",
      "Epoch 58/100\n",
      "13106/13106 [==============================] - 1s 52us/step - loss: 0.0089 - mean_absolute_error: 0.0717\n",
      "Epoch 59/100\n",
      "13106/13106 [==============================] - 1s 83us/step - loss: 0.0081 - mean_absolute_error: 0.0682\n",
      "Epoch 60/100\n",
      "13106/13106 [==============================] - 1s 45us/step - loss: 0.0082 - mean_absolute_error: 0.0687\n",
      "Epoch 61/100\n",
      "13106/13106 [==============================] - 1s 42us/step - loss: 0.0076 - mean_absolute_error: 0.0658\n",
      "Epoch 62/100\n",
      "13106/13106 [==============================] - 1s 44us/step - loss: 0.0079 - mean_absolute_error: 0.0676\n",
      "Epoch 63/100\n",
      "13106/13106 [==============================] - 1s 42us/step - loss: 0.0078 - mean_absolute_error: 0.0672\n",
      "Epoch 64/100\n",
      "13106/13106 [==============================] - 1s 43us/step - loss: 0.0073 - mean_absolute_error: 0.0653\n",
      "Epoch 65/100\n",
      "13106/13106 [==============================] - 1s 42us/step - loss: 0.0075 - mean_absolute_error: 0.0661\n",
      "Epoch 66/100\n",
      "13106/13106 [==============================] - 1s 43us/step - loss: 0.0077 - mean_absolute_error: 0.0669\n",
      "Epoch 67/100\n",
      "13106/13106 [==============================] - 1s 46us/step - loss: 0.0070 - mean_absolute_error: 0.0638\n",
      "Epoch 68/100\n",
      "13106/13106 [==============================] - 1s 43us/step - loss: 0.0069 - mean_absolute_error: 0.0633\n",
      "Epoch 69/100\n"
     ]
    },
    {
     "name": "stdout",
     "output_type": "stream",
     "text": [
      "13106/13106 [==============================] - 1s 44us/step - loss: 0.0070 - mean_absolute_error: 0.0640\n",
      "Epoch 70/100\n",
      "13106/13106 [==============================] - 1s 42us/step - loss: 0.0068 - mean_absolute_error: 0.0630\n",
      "Epoch 71/100\n",
      "13106/13106 [==============================] - 1s 44us/step - loss: 0.0068 - mean_absolute_error: 0.0630\n",
      "Epoch 72/100\n",
      "13106/13106 [==============================] - 1s 43us/step - loss: 0.0060 - mean_absolute_error: 0.0591\n",
      "Epoch 73/100\n",
      "13106/13106 [==============================] - 1s 43us/step - loss: 0.0063 - mean_absolute_error: 0.0609\n",
      "Epoch 74/100\n",
      "13106/13106 [==============================] - 1s 42us/step - loss: 0.0060 - mean_absolute_error: 0.0587\n",
      "Epoch 75/100\n",
      "13106/13106 [==============================] - 1s 42us/step - loss: 0.0070 - mean_absolute_error: 0.0643\n",
      "Epoch 76/100\n",
      "13106/13106 [==============================] - 1s 43us/step - loss: 0.0057 - mean_absolute_error: 0.0577\n",
      "Epoch 77/100\n",
      "13106/13106 [==============================] - 1s 45us/step - loss: 0.0058 - mean_absolute_error: 0.0582\n",
      "Epoch 78/100\n",
      "13106/13106 [==============================] - 1s 49us/step - loss: 0.0060 - mean_absolute_error: 0.0589\n",
      "Epoch 79/100\n",
      "13106/13106 [==============================] - 1s 60us/step - loss: 0.0059 - mean_absolute_error: 0.0587\n",
      "Epoch 80/100\n",
      "13106/13106 [==============================] - 1s 49us/step - loss: 0.0060 - mean_absolute_error: 0.0597\n",
      "Epoch 81/100\n",
      "13106/13106 [==============================] - 1s 50us/step - loss: 0.0051 - mean_absolute_error: 0.0546\n",
      "Epoch 82/100\n",
      "13106/13106 [==============================] - 1s 47us/step - loss: 0.0058 - mean_absolute_error: 0.0578\n",
      "Epoch 83/100\n",
      "13106/13106 [==============================] - 1s 50us/step - loss: 0.0054 - mean_absolute_error: 0.0566\n",
      "Epoch 84/100\n",
      "13106/13106 [==============================] - 1s 45us/step - loss: 0.0049 - mean_absolute_error: 0.0538\n",
      "Epoch 85/100\n",
      "13106/13106 [==============================] - 1s 46us/step - loss: 0.0049 - mean_absolute_error: 0.0538\n",
      "Epoch 86/100\n",
      "13106/13106 [==============================] - 1s 55us/step - loss: 0.0052 - mean_absolute_error: 0.0553\n",
      "Epoch 87/100\n",
      "13106/13106 [==============================] - 1s 70us/step - loss: 0.0054 - mean_absolute_error: 0.0563: 0s - loss: 0.0055 - mean_absolute_error:\n",
      "Epoch 88/100\n",
      "13106/13106 [==============================] - 1s 91us/step - loss: 0.0045 - mean_absolute_error: 0.0512\n",
      "Epoch 89/100\n",
      "13106/13106 [==============================] - 1s 64us/step - loss: 0.0050 - mean_absolute_error: 0.0542: 0s - loss: 0.0048 - mean_absolute_e\n",
      "Epoch 90/100\n",
      "13106/13106 [==============================] - 1s 73us/step - loss: 0.0045 - mean_absolute_error: 0.0509\n",
      "Epoch 91/100\n",
      "13106/13106 [==============================] - 1s 64us/step - loss: 0.0047 - mean_absolute_error: 0.0529\n",
      "Epoch 92/100\n",
      "13106/13106 [==============================] - 1s 63us/step - loss: 0.0046 - mean_absolute_error: 0.0521: 0s - loss: 0.0047 - mean_absolute_erro\n",
      "Epoch 93/100\n",
      "13106/13106 [==============================] - 1s 70us/step - loss: 0.0045 - mean_absolute_error: 0.0513\n",
      "Epoch 94/100\n",
      "13106/13106 [==============================] - 1s 47us/step - loss: 0.0045 - mean_absolute_error: 0.0516\n",
      "Epoch 95/100\n",
      "13106/13106 [==============================] - 1s 54us/step - loss: 0.0046 - mean_absolute_error: 0.0519\n",
      "Epoch 96/100\n",
      "13106/13106 [==============================] - 1s 55us/step - loss: 0.0041 - mean_absolute_error: 0.0486\n",
      "Epoch 97/100\n",
      "13106/13106 [==============================] - 1s 55us/step - loss: 0.0042 - mean_absolute_error: 0.0501\n",
      "Epoch 98/100\n",
      "13106/13106 [==============================] - 1s 49us/step - loss: 0.0042 - mean_absolute_error: 0.0503\n",
      "Epoch 99/100\n",
      "13106/13106 [==============================] - 1s 49us/step - loss: 0.0036 - mean_absolute_error: 0.0458\n",
      "Epoch 100/100\n",
      "13106/13106 [==============================] - 1s 44us/step - loss: 0.0043 - mean_absolute_error: 0.0504\n"
     ]
    },
    {
     "data": {
      "text/plain": [
       "<keras.callbacks.callbacks.History at 0x11d329150>"
      ]
     },
     "execution_count": 8,
     "metadata": {},
     "output_type": "execute_result"
    }
   ],
   "source": [
    "model.fit(X_train, Y_train, epochs=100, batch_size=32, shuffle='batch')"
   ]
  },
  {
   "cell_type": "code",
   "execution_count": 9,
   "metadata": {},
   "outputs": [
    {
     "name": "stdout",
     "output_type": "stream",
     "text": [
      "3277/3277 [==============================] - 0s 46us/step\n",
      "Loss  [0.0032870552178158523, 0.044669922441244125]\n"
     ]
    }
   ],
   "source": [
    "print('Loss ', model.evaluate(X_test, Y_test))"
   ]
  },
  {
   "cell_type": "code",
   "execution_count": 12,
   "metadata": {},
   "outputs": [
    {
     "name": "stdout",
     "output_type": "stream",
     "text": [
      "Total  3277\n",
      "Correct  3277\n",
      "Accuracy: 1.0\n"
     ]
    }
   ],
   "source": [
    "predictions = np.round(model.predict(X_test))\n",
    "\n",
    "correct = 0\n",
    "for i,j in zip(predictions, Y_test):\n",
    "    if(np.array_equal(i, j)):\n",
    "        correct += 1\n",
    "\n",
    "total = len(predictions)\n",
    "print('Total ', total)\n",
    "print('Correct ', correct)\n",
    "print('Accuracy:' , correct/total)"
   ]
  },
  {
   "cell_type": "code",
   "execution_count": 13,
   "metadata": {},
   "outputs": [],
   "source": [
    "model.save('neural_network.h5')"
   ]
  },
  {
   "cell_type": "code",
   "execution_count": null,
   "metadata": {},
   "outputs": [],
   "source": []
  }
 ],
 "metadata": {
  "kernelspec": {
   "display_name": "Python 3",
   "language": "python",
   "name": "python3"
  },
  "language_info": {
   "codemirror_mode": {
    "name": "ipython",
    "version": 3
   },
   "file_extension": ".py",
   "mimetype": "text/x-python",
   "name": "python",
   "nbconvert_exporter": "python",
   "pygments_lexer": "ipython3",
   "version": "3.7.7"
  }
 },
 "nbformat": 4,
 "nbformat_minor": 2
}
