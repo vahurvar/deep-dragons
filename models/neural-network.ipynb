{
 "cells": [
  {
   "cell_type": "code",
   "execution_count": 1,
   "metadata": {},
   "outputs": [],
   "source": [
    "import numpy as np\n",
    "import pandas as pd"
   ]
  },
  {
   "cell_type": "code",
   "execution_count": 2,
   "metadata": {},
   "outputs": [],
   "source": [
    "np.random.seed(10)"
   ]
  },
  {
   "cell_type": "code",
   "execution_count": 3,
   "metadata": {},
   "outputs": [
    {
     "name": "stdout",
     "output_type": "stream",
     "text": [
      "(16383, 10)\n"
     ]
    }
   ],
   "source": [
    "excel = pd.ExcelFile('../data.xls')\n",
    "df = excel.parse(\"data\")\n",
    "\n",
    "print(df.shape)"
   ]
  },
  {
   "cell_type": "code",
   "execution_count": 4,
   "metadata": {},
   "outputs": [
    {
     "name": "stdout",
     "output_type": "stream",
     "text": [
      "[['NMR' 1 8 3 8]\n",
      " ['NMR' 4 1 8 7]\n",
      " ['NMR' 3 4 7 6]\n",
      " ...\n",
      " ['NMR' 0 5 7 8]\n",
      " ['NMR' 5 1 6 8]\n",
      " ['NMR' 7 2 4 7]]\n",
      "[[ 1 10  2  7]\n",
      " [ 3  1 10  6]\n",
      " [ 3  3  9  5]\n",
      " ...\n",
      " [ 0  4  6 10]\n",
      " [ 4  1  5 10]\n",
      " [ 9  2  3  6]]\n"
     ]
    }
   ],
   "source": [
    "X = df.iloc[:, 1:6].values\n",
    "Y = df.iloc[:, 6:].values\n",
    "\n",
    "print(X)\n",
    "print(Y)"
   ]
  },
  {
   "cell_type": "code",
   "execution_count": 5,
   "metadata": {},
   "outputs": [
    {
     "name": "stdout",
     "output_type": "stream",
     "text": [
      "(16383, 9)\n"
     ]
    },
    {
     "name": "stderr",
     "output_type": "stream",
     "text": [
      "/usr/local/lib/python3.7/site-packages/sklearn/preprocessing/_encoders.py:414: FutureWarning: The handling of integer data will change in version 0.22. Currently, the categories are determined based on the range [0, max(values)], while in the future they will be determined based on the unique values.\n",
      "If you want the future behaviour and silence this warning, you can specify \"categories='auto'\".\n",
      "In case you used a LabelEncoder before this OneHotEncoder to convert the categories to integers, then you can now use the OneHotEncoder directly.\n",
      "  warnings.warn(msg, FutureWarning)\n",
      "/usr/local/lib/python3.7/site-packages/sklearn/preprocessing/_encoders.py:450: DeprecationWarning: The 'categorical_features' keyword is deprecated in version 0.20 and will be removed in 0.22. You can use the ColumnTransformer instead.\n",
      "  \"use the ColumnTransformer instead.\", DeprecationWarning)\n"
     ]
    }
   ],
   "source": [
    "from sklearn.preprocessing import LabelEncoder, OneHotEncoder\n",
    "\n",
    "X[:, 0] = LabelEncoder().fit_transform(X[:, 0])\n",
    "X = OneHotEncoder(categorical_features = [0]).fit_transform(X).toarray()\n",
    "\n",
    "print(X.shape)"
   ]
  },
  {
   "cell_type": "code",
   "execution_count": 6,
   "metadata": {},
   "outputs": [
    {
     "name": "stdout",
     "output_type": "stream",
     "text": [
      "13106\n",
      "3277\n"
     ]
    }
   ],
   "source": [
    "from sklearn.model_selection import train_test_split\n",
    "\n",
    "X_train, X_test, Y_train, Y_test = train_test_split(X, Y, test_size = 0.2, random_state = 0)\n",
    "\n",
    "print(len(X_train))\n",
    "print(len(X_test))"
   ]
  },
  {
   "cell_type": "code",
   "execution_count": 7,
   "metadata": {},
   "outputs": [
    {
     "name": "stderr",
     "output_type": "stream",
     "text": [
      "Using TensorFlow backend.\n"
     ]
    },
    {
     "name": "stdout",
     "output_type": "stream",
     "text": [
      "WARNING:tensorflow:From /usr/local/lib/python3.7/site-packages/tensorflow/python/framework/op_def_library.py:263: colocate_with (from tensorflow.python.framework.ops) is deprecated and will be removed in a future version.\n",
      "Instructions for updating:\n",
      "Colocations handled automatically by placer.\n"
     ]
    }
   ],
   "source": [
    "from keras.models import Sequential\n",
    "from keras.layers import Dense\n",
    "\n",
    "model = Sequential()\n",
    "model.add(Dense(9, input_dim=9, activation='relu'))\n",
    "model.add(Dense(200, activation='relu'))\n",
    "model.add(Dense(50, activation='relu'))\n",
    "model.add(Dense(20, activation='relu'))\n",
    "model.add(Dense(10, activation='relu'))\n",
    "model.add(Dense(4, activation='relu'))\n",
    "\n",
    "model.compile(loss='mean_squared_error', optimizer='adam')"
   ]
  },
  {
   "cell_type": "code",
   "execution_count": 8,
   "metadata": {},
   "outputs": [
    {
     "name": "stdout",
     "output_type": "stream",
     "text": [
      "WARNING:tensorflow:From /usr/local/lib/python3.7/site-packages/tensorflow/python/ops/math_ops.py:3066: to_int32 (from tensorflow.python.ops.math_ops) is deprecated and will be removed in a future version.\n",
      "Instructions for updating:\n",
      "Use tf.cast instead.\n",
      "Epoch 1/100\n",
      "13106/13106 [==============================] - 3s 224us/step - loss: 5.6809\n",
      "Epoch 2/100\n",
      "13106/13106 [==============================] - 2s 165us/step - loss: 1.0547\n",
      "Epoch 3/100\n",
      "13106/13106 [==============================] - 1s 102us/step - loss: 0.4419\n",
      "Epoch 4/100\n",
      "13106/13106 [==============================] - 1s 96us/step - loss: 0.2861\n",
      "Epoch 5/100\n",
      "13106/13106 [==============================] - 1s 97us/step - loss: 0.2186\n",
      "Epoch 6/100\n",
      "13106/13106 [==============================] - 1s 88us/step - loss: 0.1781\n",
      "Epoch 7/100\n",
      "13106/13106 [==============================] - 1s 94us/step - loss: 0.1442\n",
      "Epoch 8/100\n",
      "13106/13106 [==============================] - 1s 88us/step - loss: 0.1185\n",
      "Epoch 9/100\n",
      "13106/13106 [==============================] - 2s 132us/step - loss: 0.0991\n",
      "Epoch 10/100\n",
      "13106/13106 [==============================] - 1s 103us/step - loss: 0.0876\n",
      "Epoch 11/100\n",
      "13106/13106 [==============================] - 1s 88us/step - loss: 0.0806\n",
      "Epoch 12/100\n",
      "13106/13106 [==============================] - 1s 97us/step - loss: 0.0750\n",
      "Epoch 13/100\n",
      "13106/13106 [==============================] - 1s 110us/step - loss: 0.0685\n",
      "Epoch 14/100\n",
      "13106/13106 [==============================] - 1s 69us/step - loss: 0.0652\n",
      "Epoch 15/100\n",
      "13106/13106 [==============================] - 1s 85us/step - loss: 0.0614: 0s - loss: 0.06\n",
      "Epoch 16/100\n",
      "13106/13106 [==============================] - 1s 112us/step - loss: 0.0541\n",
      "Epoch 17/100\n",
      "13106/13106 [==============================] - 2s 122us/step - loss: 0.0542\n",
      "Epoch 18/100\n",
      "13106/13106 [==============================] - 1s 74us/step - loss: 0.0502\n",
      "Epoch 19/100\n",
      "13106/13106 [==============================] - 1s 74us/step - loss: 0.0482\n",
      "Epoch 20/100\n",
      "13106/13106 [==============================] - 2s 119us/step - loss: 0.0439 0s \n",
      "Epoch 21/100\n",
      "13106/13106 [==============================] - 1s 114us/step - loss: 0.0421\n",
      "Epoch 22/100\n",
      "13106/13106 [==============================] - 2s 131us/step - loss: 0.0417\n",
      "Epoch 23/100\n",
      "13106/13106 [==============================] - 1s 82us/step - loss: 0.0386\n",
      "Epoch 24/100\n",
      "13106/13106 [==============================] - 2s 153us/step - loss: 0.0397\n",
      "Epoch 25/100\n",
      "13106/13106 [==============================] - 2s 128us/step - loss: 0.0354\n",
      "Epoch 26/100\n",
      "13106/13106 [==============================] - 1s 112us/step - loss: 0.0381\n",
      "Epoch 27/100\n",
      "13106/13106 [==============================] - 1s 89us/step - loss: 0.0320\n",
      "Epoch 28/100\n",
      "13106/13106 [==============================] - 1s 97us/step - loss: 0.0321\n",
      "Epoch 29/100\n",
      "13106/13106 [==============================] - 1s 91us/step - loss: 0.0337: 0s - loss: \n",
      "Epoch 30/100\n",
      "13106/13106 [==============================] - 1s 92us/step - loss: 0.0307\n",
      "Epoch 31/100\n",
      "13106/13106 [==============================] - 1s 93us/step - loss: 0.0294: 0s - loss: 0.02\n",
      "Epoch 32/100\n",
      "13106/13106 [==============================] - 1s 97us/step - loss: 0.0293\n",
      "Epoch 33/100\n",
      "13106/13106 [==============================] - 1s 107us/step - loss: 0.0280\n",
      "Epoch 34/100\n",
      "13106/13106 [==============================] - 2s 120us/step - loss: 0.0267\n",
      "Epoch 35/100\n",
      "13106/13106 [==============================] - 2s 179us/step - loss: 0.0269\n",
      "Epoch 36/100\n",
      "13106/13106 [==============================] - 3s 211us/step - loss: 0.0254\n",
      "Epoch 37/100\n",
      "13106/13106 [==============================] - 2s 172us/step - loss: 0.0255\n",
      "Epoch 38/100\n",
      "13106/13106 [==============================] - 2s 137us/step - loss: 0.0245\n",
      "Epoch 39/100\n",
      "13106/13106 [==============================] - 2s 134us/step - loss: 0.0253\n",
      "Epoch 40/100\n",
      "13106/13106 [==============================] - 1s 95us/step - loss: 0.0240\n",
      "Epoch 41/100\n",
      "13106/13106 [==============================] - 1s 100us/step - loss: 0.0225\n",
      "Epoch 42/100\n",
      "13106/13106 [==============================] - 2s 171us/step - loss: 0.0225\n",
      "Epoch 43/100\n",
      "13106/13106 [==============================] - 2s 117us/step - loss: 0.0219\n",
      "Epoch 44/100\n",
      "13106/13106 [==============================] - 1s 84us/step - loss: 0.0163\n",
      "Epoch 45/100\n",
      "13106/13106 [==============================] - 1s 95us/step - loss: 0.0150\n",
      "Epoch 46/100\n",
      "13106/13106 [==============================] - 1s 88us/step - loss: 0.0152\n",
      "Epoch 47/100\n",
      "13106/13106 [==============================] - 1s 90us/step - loss: 0.0136\n",
      "Epoch 48/100\n",
      "13106/13106 [==============================] - 1s 86us/step - loss: 0.0127\n",
      "Epoch 49/100\n",
      "13106/13106 [==============================] - 1s 82us/step - loss: 0.0143\n",
      "Epoch 50/100\n",
      "13106/13106 [==============================] - 3s 198us/step - loss: 0.0121\n",
      "Epoch 51/100\n",
      "13106/13106 [==============================] - 2s 155us/step - loss: 0.0128\n",
      "Epoch 52/100\n",
      "13106/13106 [==============================] - 2s 160us/step - loss: 0.0116\n",
      "Epoch 53/100\n",
      "13106/13106 [==============================] - 1s 86us/step - loss: 0.0108\n",
      "Epoch 54/100\n",
      "13106/13106 [==============================] - 1s 94us/step - loss: 0.0111\n",
      "Epoch 55/100\n",
      "13106/13106 [==============================] - 1s 97us/step - loss: 0.0109\n",
      "Epoch 56/100\n",
      "13106/13106 [==============================] - 2s 119us/step - loss: 0.0104\n",
      "Epoch 57/100\n",
      "13106/13106 [==============================] - 1s 97us/step - loss: 0.0102\n",
      "Epoch 58/100\n",
      "13106/13106 [==============================] - 1s 86us/step - loss: 0.0095\n",
      "Epoch 59/100\n",
      "13106/13106 [==============================] - 1s 99us/step - loss: 0.0095\n",
      "Epoch 60/100\n",
      "13106/13106 [==============================] - 1s 87us/step - loss: 0.0090\n",
      "Epoch 61/100\n",
      "13106/13106 [==============================] - 1s 90us/step - loss: 0.0087\n",
      "Epoch 62/100\n",
      "13106/13106 [==============================] - 1s 78us/step - loss: 0.0088\n",
      "Epoch 63/100\n",
      "13106/13106 [==============================] - 1s 79us/step - loss: 0.0082\n",
      "Epoch 64/100\n",
      "13106/13106 [==============================] - 1s 84us/step - loss: 0.0090\n",
      "Epoch 65/100\n",
      "13106/13106 [==============================] - 1s 79us/step - loss: 0.0072\n",
      "Epoch 66/100\n",
      "13106/13106 [==============================] - 1s 77us/step - loss: 0.0084\n",
      "Epoch 67/100\n",
      "13106/13106 [==============================] - 1s 103us/step - loss: 0.0076\n",
      "Epoch 68/100\n",
      "13106/13106 [==============================] - 1s 86us/step - loss: 0.0080\n",
      "Epoch 69/100\n",
      "13106/13106 [==============================] - 1s 73us/step - loss: 0.0084\n",
      "Epoch 70/100\n",
      "13106/13106 [==============================] - 1s 76us/step - loss: 0.0068\n",
      "Epoch 71/100\n",
      "13106/13106 [==============================] - 1s 109us/step - loss: 0.0074\n",
      "Epoch 72/100\n",
      "13106/13106 [==============================] - 1s 114us/step - loss: 0.0074\n",
      "Epoch 73/100\n",
      "13106/13106 [==============================] - 1s 111us/step - loss: 0.0076\n",
      "Epoch 74/100\n",
      "13106/13106 [==============================] - 2s 174us/step - loss: 0.0062\n",
      "Epoch 75/100\n",
      "13106/13106 [==============================] - 2s 128us/step - loss: 0.0068\n",
      "Epoch 76/100\n",
      "13106/13106 [==============================] - 1s 105us/step - loss: 0.0060\n",
      "Epoch 77/100\n",
      "13106/13106 [==============================] - 1s 94us/step - loss: 0.0062\n",
      "Epoch 78/100\n",
      "13106/13106 [==============================] - 1s 98us/step - loss: 0.0062\n",
      "Epoch 79/100\n",
      "13106/13106 [==============================] - 2s 133us/step - loss: 0.0076\n",
      "Epoch 80/100\n",
      "13106/13106 [==============================] - 1s 107us/step - loss: 0.0054\n",
      "Epoch 81/100\n",
      "13106/13106 [==============================] - 3s 196us/step - loss: 0.0069\n",
      "Epoch 82/100\n",
      "13106/13106 [==============================] - 2s 125us/step - loss: 0.0051\n",
      "Epoch 83/100\n",
      "13106/13106 [==============================] - 2s 165us/step - loss: 0.0061\n",
      "Epoch 84/100\n",
      "13106/13106 [==============================] - 2s 117us/step - loss: 0.0076\n",
      "Epoch 85/100\n",
      "13106/13106 [==============================] - 2s 136us/step - loss: 0.0046\n",
      "Epoch 86/100\n",
      "13106/13106 [==============================] - 3s 213us/step - loss: 0.0060\n",
      "Epoch 87/100\n",
      "13106/13106 [==============================] - 3s 233us/step - loss: 0.0061\n",
      "Epoch 88/100\n",
      "13106/13106 [==============================] - 3s 228us/step - loss: 0.0051\n",
      "Epoch 89/100\n",
      "13106/13106 [==============================] - 2s 130us/step - loss: 0.0055\n",
      "Epoch 90/100\n"
     ]
    },
    {
     "name": "stdout",
     "output_type": "stream",
     "text": [
      "13106/13106 [==============================] - 1s 99us/step - loss: 0.0092\n",
      "Epoch 91/100\n",
      "13106/13106 [==============================] - 1s 105us/step - loss: 0.0041\n",
      "Epoch 92/100\n",
      "13106/13106 [==============================] - 1s 92us/step - loss: 0.0043\n",
      "Epoch 93/100\n",
      "13106/13106 [==============================] - 1s 91us/step - loss: 0.0056\n",
      "Epoch 94/100\n",
      "13106/13106 [==============================] - 1s 93us/step - loss: 0.0044\n",
      "Epoch 95/100\n",
      "13106/13106 [==============================] - 1s 91us/step - loss: 0.0050\n",
      "Epoch 96/100\n",
      "13106/13106 [==============================] - 1s 95us/step - loss: 0.0053\n",
      "Epoch 97/100\n",
      "13106/13106 [==============================] - 1s 94us/step - loss: 0.0052\n",
      "Epoch 98/100\n",
      "13106/13106 [==============================] - 1s 94us/step - loss: 0.0052\n",
      "Epoch 99/100\n",
      "13106/13106 [==============================] - 1s 110us/step - loss: 0.0045\n",
      "Epoch 100/100\n",
      "13106/13106 [==============================] - 1s 101us/step - loss: 0.0047\n"
     ]
    },
    {
     "data": {
      "text/plain": [
       "<keras.callbacks.History at 0x125b77d30>"
      ]
     },
     "execution_count": 8,
     "metadata": {},
     "output_type": "execute_result"
    }
   ],
   "source": [
    "model.fit(X_train, Y_train, epochs=100, batch_size=20, shuffle='batch')"
   ]
  },
  {
   "cell_type": "code",
   "execution_count": 9,
   "metadata": {},
   "outputs": [
    {
     "name": "stdout",
     "output_type": "stream",
     "text": [
      "3277/3277 [==============================] - 0s 35us/step\n",
      "Loss  0.0038725604117172438\n"
     ]
    }
   ],
   "source": [
    "print('Loss ', model.evaluate(X_test, Y_test))"
   ]
  },
  {
   "cell_type": "code",
   "execution_count": 10,
   "metadata": {},
   "outputs": [
    {
     "name": "stdout",
     "output_type": "stream",
     "text": [
      "Total  3277\n",
      "Correct  3277\n",
      "Accuracy: 1.0\n"
     ]
    }
   ],
   "source": [
    "predictions = np.round(model.predict(X_test))\n",
    "\n",
    "correct = 0\n",
    "for i,j in zip(predictions, Y_test):\n",
    "    if(np.array_equal(i, j)):\n",
    "        correct += 1\n",
    "\n",
    "total = len(predictions)\n",
    "print('Total ', total)\n",
    "print('Correct ', correct)\n",
    "print('Accuracy:' , correct/total)"
   ]
  },
  {
   "cell_type": "code",
   "execution_count": 11,
   "metadata": {},
   "outputs": [],
   "source": [
    "# Best 0.026385646460644348 100% / 9 50 20 10 4\n",
    "model.save('neural_network.h5')"
   ]
  },
  {
   "cell_type": "code",
   "execution_count": 12,
   "metadata": {},
   "outputs": [
    {
     "name": "stdout",
     "output_type": "stream",
     "text": [
      "16383/16383 [==============================] - 0s 29us/step\n",
      "Loss2  0.003730430970023466\n"
     ]
    }
   ],
   "source": [
    "from keras.models import load_model\n",
    "model2 = load_model('neural_network.h5')\n",
    "\n",
    "print('Loss2 ', model2.evaluate(X, Y))"
   ]
  },
  {
   "cell_type": "code",
   "execution_count": null,
   "metadata": {},
   "outputs": [],
   "source": []
  }
 ],
 "metadata": {
  "kernelspec": {
   "display_name": "Python 3",
   "language": "python",
   "name": "python3"
  },
  "language_info": {
   "codemirror_mode": {
    "name": "ipython",
    "version": 3
   },
   "file_extension": ".py",
   "mimetype": "text/x-python",
   "name": "python",
   "nbconvert_exporter": "python",
   "pygments_lexer": "ipython3",
   "version": "3.7.3"
  }
 },
 "nbformat": 4,
 "nbformat_minor": 2
}
